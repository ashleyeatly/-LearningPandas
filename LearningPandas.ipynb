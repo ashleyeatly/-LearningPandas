{
  "nbformat": 4,
  "nbformat_minor": 0,
  "metadata": {
    "colab": {
      "provenance": [],
      "toc_visible": true,
      "authorship_tag": "ABX9TyMvVyQayXB5w4eivInwkv3e",
      "include_colab_link": true
    },
    "kernelspec": {
      "name": "python3",
      "display_name": "Python 3"
    },
    "language_info": {
      "name": "python"
    }
  },
  "cells": [
    {
      "cell_type": "markdown",
      "metadata": {
        "id": "view-in-github",
        "colab_type": "text"
      },
      "source": [
        "<a href=\"https://colab.research.google.com/github/ashleyeatly/-LearningPandas/blob/main/LearningPandas.ipynb\" target=\"_parent\"><img src=\"https://colab.research.google.com/assets/colab-badge.svg\" alt=\"Open In Colab\"/></a>"
      ]
    },
    {
      "cell_type": "code",
      "source": [
        "1"
      ],
      "metadata": {
        "id": "YttsNd-OdxJh"
      },
      "execution_count": null,
      "outputs": []
    },
    {
      "cell_type": "markdown",
      "source": [
        "#Lesson One: Statement"
      ],
      "metadata": {
        "id": "Uqtu9KP2fn2_"
      }
    },
    {
      "cell_type": "markdown",
      "source": [
        "##Statements\n"
      ],
      "metadata": {
        "id": "WyUZKTkAfYGV"
      }
    },
    {
      "cell_type": "markdown",
      "source": [
        "###Variables"
      ],
      "metadata": {
        "id": "nRWN-5vQhZ8i"
      }
    },
    {
      "cell_type": "code",
      "source": [
        "print(\"Hello World\") #The usual first test step"
      ],
      "metadata": {
        "colab": {
          "base_uri": "https://localhost:8080/"
        },
        "id": "WcTsV499f8D8",
        "outputId": "95a9a616-9ef1-42d1-f8ad-c0bc7e66374e"
      },
      "execution_count": 3,
      "outputs": [
        {
          "output_type": "stream",
          "name": "stdout",
          "text": [
            "Hello World\n"
          ]
        }
      ]
    },
    {
      "cell_type": "code",
      "source": [
        "var = \"Apple\"\n",
        "print(f\"This is a good fruit to eat in winter {var}\")"
      ],
      "metadata": {
        "colab": {
          "base_uri": "https://localhost:8080/"
        },
        "id": "WB5HDwCggVp8",
        "outputId": "59a7e662-5753-473c-da3e-6c48c49469b7"
      },
      "execution_count": 4,
      "outputs": [
        {
          "output_type": "stream",
          "name": "stdout",
          "text": [
            "This is a good fruit to eat in winter Apple\n"
          ]
        }
      ]
    },
    {
      "cell_type": "code",
      "source": [
        "num = 100\n",
        "type(num)"
      ],
      "metadata": {
        "colab": {
          "base_uri": "https://localhost:8080/"
        },
        "id": "Yw8_Nemkggq9",
        "outputId": "374731b7-7b04-49de-d9e7-8baf8d7887ae"
      },
      "execution_count": 5,
      "outputs": [
        {
          "output_type": "execute_result",
          "data": {
            "text/plain": [
              "int"
            ]
          },
          "metadata": {},
          "execution_count": 5
        }
      ]
    },
    {
      "cell_type": "code",
      "source": [
        "print(f\"The amount of money I like in my wallet is {num} pounds\")"
      ],
      "metadata": {
        "colab": {
          "base_uri": "https://localhost:8080/"
        },
        "id": "wKRHRLTug02n",
        "outputId": "14bbf67f-4d7a-42ae-a726-4a2f932ef7f5"
      },
      "execution_count": 6,
      "outputs": [
        {
          "output_type": "stream",
          "name": "stdout",
          "text": [
            "The amount of money I like in my wallet is 100 pounds\n"
          ]
        }
      ]
    },
    {
      "cell_type": "code",
      "source": [],
      "metadata": {
        "id": "ZIpGI5pNhIv_"
      },
      "execution_count": null,
      "outputs": []
    },
    {
      "cell_type": "markdown",
      "source": [
        "###Lists"
      ],
      "metadata": {
        "id": "zOOOVvxMiP77"
      }
    },
    {
      "cell_type": "code",
      "source": [
        "myList = []\n"
      ],
      "metadata": {
        "id": "m3js180Libdt"
      },
      "execution_count": 7,
      "outputs": []
    },
    {
      "cell_type": "code",
      "source": [
        "myList.append(1)"
      ],
      "metadata": {
        "id": "baGW-dDxildT"
      },
      "execution_count": 8,
      "outputs": []
    },
    {
      "cell_type": "code",
      "source": [
        "myList.append(1)"
      ],
      "metadata": {
        "id": "UMQqFRukioje"
      },
      "execution_count": 9,
      "outputs": []
    },
    {
      "cell_type": "code",
      "source": [
        "#How many items\n",
        "len(myList)"
      ],
      "metadata": {
        "id": "XXyIITT8isdG",
        "outputId": "77fd6e9b-a978-407f-b5e8-e9e625e86804",
        "colab": {
          "base_uri": "https://localhost:8080/"
        }
      },
      "execution_count": 10,
      "outputs": [
        {
          "output_type": "execute_result",
          "data": {
            "text/plain": [
              "2"
            ]
          },
          "metadata": {},
          "execution_count": 10
        }
      ]
    },
    {
      "cell_type": "code",
      "source": [
        "print(myList)"
      ],
      "metadata": {
        "id": "8Hm3fS4Ei1G1",
        "outputId": "1ad261a1-8dbc-41ff-ddb2-4057f81b2322",
        "colab": {
          "base_uri": "https://localhost:8080/"
        }
      },
      "execution_count": 11,
      "outputs": [
        {
          "output_type": "stream",
          "name": "stdout",
          "text": [
            "[1, 1]\n"
          ]
        }
      ]
    },
    {
      "cell_type": "code",
      "source": [
        "# many things at once\n",
        "another_list = [1,2,3,4,5,6,7,8,9,10]"
      ],
      "metadata": {
        "id": "wvOn-RGzi4-C"
      },
      "execution_count": 12,
      "outputs": []
    },
    {
      "cell_type": "code",
      "source": [
        "len(another_list)"
      ],
      "metadata": {
        "id": "zzxTn6JNjDXN",
        "outputId": "75fb4f8d-2257-47a9-95cc-86085e4a202e",
        "colab": {
          "base_uri": "https://localhost:8080/"
        }
      },
      "execution_count": 14,
      "outputs": [
        {
          "output_type": "execute_result",
          "data": {
            "text/plain": [
              "10"
            ]
          },
          "metadata": {},
          "execution_count": 14
        }
      ]
    },
    {
      "cell_type": "code",
      "source": [
        "# grab two items from the top\n",
        "another_list[0:2]"
      ],
      "metadata": {
        "id": "XjxpG-IwjH-3",
        "outputId": "dee14f83-eaf5-4e7f-f667-8685b6e400e5",
        "colab": {
          "base_uri": "https://localhost:8080/"
        }
      },
      "execution_count": 16,
      "outputs": [
        {
          "output_type": "execute_result",
          "data": {
            "text/plain": [
              "[1, 2]"
            ]
          },
          "metadata": {},
          "execution_count": 16
        }
      ]
    },
    {
      "cell_type": "code",
      "source": [
        "# get last but one\n",
        "another_list[-2]"
      ],
      "metadata": {
        "id": "fviiqeV1jS_E",
        "outputId": "b4ebc0a0-8dcf-40da-83a4-d4efccd89094",
        "colab": {
          "base_uri": "https://localhost:8080/"
        }
      },
      "execution_count": 18,
      "outputs": [
        {
          "output_type": "execute_result",
          "data": {
            "text/plain": [
              "9"
            ]
          },
          "metadata": {},
          "execution_count": 18
        }
      ]
    },
    {
      "cell_type": "code",
      "source": [
        "# everything but last one\n",
        "another_list[:-1]"
      ],
      "metadata": {
        "id": "aJyT_416jfzr",
        "outputId": "e7567d07-8289-44e3-b8e0-e4382ffa2241",
        "colab": {
          "base_uri": "https://localhost:8080/"
        }
      },
      "execution_count": 19,
      "outputs": [
        {
          "output_type": "execute_result",
          "data": {
            "text/plain": [
              "[1, 2, 3, 4, 5, 6, 7, 8, 9]"
            ]
          },
          "metadata": {},
          "execution_count": 19
        }
      ]
    },
    {
      "cell_type": "code",
      "source": [],
      "metadata": {
        "id": "J6AdvLCmjwUg"
      },
      "execution_count": null,
      "outputs": []
    }
  ]
}