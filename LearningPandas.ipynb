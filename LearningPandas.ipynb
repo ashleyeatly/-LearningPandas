{
  "nbformat": 4,
  "nbformat_minor": 0,
  "metadata": {
    "colab": {
      "provenance": [],
      "authorship_tag": "ABX9TyP6f9BcWyIAaAbwclK1B8NM",
      "include_colab_link": true
    },
    "kernelspec": {
      "name": "python3",
      "display_name": "Python 3"
    },
    "language_info": {
      "name": "python"
    }
  },
  "cells": [
    {
      "cell_type": "markdown",
      "metadata": {
        "id": "view-in-github",
        "colab_type": "text"
      },
      "source": [
        "<a href=\"https://colab.research.google.com/github/ashleyeatly/-LearningPandas/blob/main/LearningPandas.ipynb\" target=\"_parent\"><img src=\"https://colab.research.google.com/assets/colab-badge.svg\" alt=\"Open In Colab\"/></a>"
      ]
    },
    {
      "cell_type": "code",
      "source": [
        "1"
      ],
      "metadata": {
        "id": "YttsNd-OdxJh"
      },
      "execution_count": null,
      "outputs": []
    },
    {
      "cell_type": "markdown",
      "source": [
        "#Lesson One: Statement"
      ],
      "metadata": {
        "id": "Uqtu9KP2fn2_"
      }
    },
    {
      "cell_type": "markdown",
      "source": [
        "##Statements\n"
      ],
      "metadata": {
        "id": "WyUZKTkAfYGV"
      }
    },
    {
      "cell_type": "code",
      "source": [
        "print(\"Hello World\") #The usual first test step"
      ],
      "metadata": {
        "id": "WcTsV499f8D8",
        "outputId": "95a9a616-9ef1-42d1-f8ad-c0bc7e66374e",
        "colab": {
          "base_uri": "https://localhost:8080/"
        }
      },
      "execution_count": 3,
      "outputs": [
        {
          "output_type": "stream",
          "name": "stdout",
          "text": [
            "Hello World\n"
          ]
        }
      ]
    }
  ]
}