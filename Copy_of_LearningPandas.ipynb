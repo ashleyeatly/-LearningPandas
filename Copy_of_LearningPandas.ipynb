{
  "nbformat": 4,
  "nbformat_minor": 0,
  "metadata": {
    "colab": {
      "provenance": [],
      "authorship_tag": "ABX9TyMeNSrgw7BsaRhZaDXFpvv/",
      "include_colab_link": true
    },
    "kernelspec": {
      "name": "python3",
      "display_name": "Python 3"
    },
    "language_info": {
      "name": "python"
    }
  },
  "cells": [
    {
      "cell_type": "markdown",
      "metadata": {
        "id": "view-in-github",
        "colab_type": "text"
      },
      "source": [
        "<a href=\"https://colab.research.google.com/github/ashleyeatly/-LearningPandas/blob/main/Copy_of_LearningPandas.ipynb\" target=\"_parent\"><img src=\"https://colab.research.google.com/assets/colab-badge.svg\" alt=\"Open In Colab\"/></a>"
      ]
    },
    {
      "cell_type": "code",
      "source": [
        "1"
      ],
      "metadata": {
        "id": "YttsNd-OdxJh"
      },
      "execution_count": null,
      "outputs": []
    },
    {
      "cell_type": "markdown",
      "source": [
        "#Lesson One: Statement"
      ],
      "metadata": {
        "id": "Uqtu9KP2fn2_"
      }
    },
    {
      "cell_type": "markdown",
      "source": [
        "##Statements\n"
      ],
      "metadata": {
        "id": "WyUZKTkAfYGV"
      }
    },
    {
      "cell_type": "code",
      "source": [
        "print(\"Hello World\") #The usual first test step"
      ],
      "metadata": {
        "colab": {
          "base_uri": "https://localhost:8080/"
        },
        "id": "WcTsV499f8D8",
        "outputId": "95a9a616-9ef1-42d1-f8ad-c0bc7e66374e"
      },
      "execution_count": null,
      "outputs": [
        {
          "output_type": "stream",
          "name": "stdout",
          "text": [
            "Hello World\n"
          ]
        }
      ]
    },
    {
      "cell_type": "code",
      "source": [
        "var = \"Apple\"\n",
        "print(f\"This is a good fruit to eat in winter {var}\")"
      ],
      "metadata": {
        "id": "WB5HDwCggVp8",
        "outputId": "59a7e662-5753-473c-da3e-6c48c49469b7",
        "colab": {
          "base_uri": "https://localhost:8080/"
        }
      },
      "execution_count": null,
      "outputs": [
        {
          "output_type": "stream",
          "name": "stdout",
          "text": [
            "This is a good fruit to eat in winter Apple\n"
          ]
        }
      ]
    },
    {
      "cell_type": "code",
      "source": [],
      "metadata": {
        "id": "Yw8_Nemkggq9"
      },
      "execution_count": null,
      "outputs": []
    }
  ]
}