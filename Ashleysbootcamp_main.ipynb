{
  "nbformat": 4,
  "nbformat_minor": 0,
  "metadata": {
    "colab": {
      "provenance": [],
      "include_colab_link": true
    },
    "kernelspec": {
      "name": "python3",
      "display_name": "Python 3"
    },
    "language_info": {
      "name": "python"
    }
  },
  "cells": [
    {
      "cell_type": "markdown",
      "metadata": {
        "id": "view-in-github",
        "colab_type": "text"
      },
      "source": [
        "<a href=\"https://colab.research.google.com/github/ashleyeatly/-LearningPandas/blob/main/Ashleysbootcamp_main.ipynb\" target=\"_parent\"><img src=\"https://colab.research.google.com/assets/colab-badge.svg\" alt=\"Open In Colab\"/></a>"
      ]
    },
    {
      "cell_type": "markdown",
      "source": [
        "# Welcome to the Data Science Bootcamp with Python, Pandas, and Plotly!\n",
        "\n",
        "Use this notebook to get set up for the bootcamp. It downloads the labs and extracts them into your Google Drive so you can keep your work saved after the bootcamp is over.\n",
        "\n",
        "To use this notebook, run the cells from top to bottom. The code will automatically download all available labs into a Google Drive folder called `oreilly-data-science-bootcamp`. (If a lab is already downloaded, the code won't download it again to avoid overriding your work.)\n",
        "\n",
        "Then, you can open your GDrive (https://drive.google.com), open the `oreilly-data-science-bootcamp` folder, then open the lab for the day."
      ],
      "metadata": {
        "id": "Sn-8RkGdjqd6"
      }
    },
    {
      "cell_type": "code",
      "source": [
        "# Give this notebook access to your GDrive\n",
        "from google.colab import drive\n",
        "drive.mount('/content/gdrive')"
      ],
      "metadata": {
        "id": "P6gYHYCzkZty",
        "colab": {
          "base_uri": "https://localhost:8080/"
        },
        "outputId": "c4404c27-7a8c-41a7-e751-56b863363769"
      },
      "execution_count": 5,
      "outputs": [
        {
          "output_type": "stream",
          "name": "stdout",
          "text": [
            "Drive already mounted at /content/gdrive; to attempt to forcibly remount, call drive.mount(\"/content/gdrive\", force_remount=True).\n"
          ]
        }
      ]
    },
    {
      "cell_type": "code",
      "source": [
        "# Download bootcamp files\n",
        "%cd /content/gdrive/MyDrive\n",
        "!git clone https://github.com/DS-100/oreilly-bootcamp .tmp-repo\n",
        "!mkdir -p 'oreilly-data-science-bootcamp'"
      ],
      "metadata": {
        "id": "NteGY5Lck9LK",
        "colab": {
          "base_uri": "https://localhost:8080/"
        },
        "outputId": "3f373093-b9d6-467a-8d17-02ca734bfe2f"
      },
      "execution_count": 2,
      "outputs": [
        {
          "output_type": "stream",
          "name": "stdout",
          "text": [
            "/content/gdrive/MyDrive\n",
            "Cloning into '.tmp-repo'...\n",
            "remote: Enumerating objects: 211, done.\u001b[K\n",
            "remote: Counting objects: 100% (13/13), done.\u001b[K\n",
            "remote: Compressing objects: 100% (7/7), done.\u001b[K\n",
            "remote: Total 211 (delta 9), reused 9 (delta 6), pack-reused 198\u001b[K\n",
            "Receiving objects: 100% (211/211), 10.93 MiB | 9.60 MiB/s, done.\n",
            "Resolving deltas: 100% (79/79), done.\n"
          ]
        }
      ]
    },
    {
      "cell_type": "code",
      "source": [
        "# Extract labs\n",
        "from pathlib import Path\n",
        "\n",
        "repo = Path('.tmp-repo')\n",
        "dest = Path('oreilly-data-science-bootcamp')\n",
        "labs = ['lab01', 'lab02', 'lab03', 'lab04']\n",
        "for lab in labs:\n",
        "  repo_path = repo / lab / f'{lab}.ipynb'\n",
        "  repo_sol_path = repo / 'src' / lab / f'{lab}.ipynb'\n",
        "  dest_path = dest / f'{lab}.ipynb'\n",
        "  dest_sol_path = dest / f'{lab}-solutions.ipynb'\n",
        "  if dest_path.exists():\n",
        "    print(f'{dest_path} exists, skipping.')\n",
        "    continue\n",
        "  if repo_path.exists():\n",
        "    !cp -r {repo_path} {dest_path}\n",
        "    print(f'{dest_path} created.')\n",
        "  if repo_sol_path.exists():\n",
        "    !cp -r {repo_sol_path} {dest_sol_path}\n",
        "    print(f'{dest_sol_path} created.')"
      ],
      "metadata": {
        "id": "25KeepYZrC1h",
        "colab": {
          "base_uri": "https://localhost:8080/"
        },
        "outputId": "9614199b-eb86-4f41-d941-23e5b0a9e92c"
      },
      "execution_count": 3,
      "outputs": [
        {
          "output_type": "stream",
          "name": "stdout",
          "text": [
            "oreilly-data-science-bootcamp/lab01.ipynb exists, skipping.\n",
            "oreilly-data-science-bootcamp/lab02.ipynb exists, skipping.\n",
            "oreilly-data-science-bootcamp/lab03.ipynb exists, skipping.\n",
            "oreilly-data-science-bootcamp/lab04.ipynb exists, skipping.\n"
          ]
        }
      ]
    },
    {
      "cell_type": "code",
      "source": [
        "# Clean up temp files\n",
        "!rm -rf .tmp-repo"
      ],
      "metadata": {
        "id": "uL43oDWVsm9z"
      },
      "execution_count": 4,
      "outputs": []
    },
    {
      "cell_type": "code",
      "source": [],
      "metadata": {
        "id": "AvwL_giQbACJ"
      },
      "execution_count": 4,
      "outputs": []
    }
  ]
}